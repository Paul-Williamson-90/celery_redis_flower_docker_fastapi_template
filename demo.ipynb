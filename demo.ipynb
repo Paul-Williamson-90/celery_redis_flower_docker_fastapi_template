{
 "cells": [
  {
   "cell_type": "code",
   "execution_count": 7,
   "metadata": {},
   "outputs": [
    {
     "name": "stdout",
     "output_type": "stream",
     "text": [
      "{\"message\":\"pong\"}\n"
     ]
    }
   ],
   "source": [
    "import requests\n",
    "\n",
    "response = requests.get(\"http://localhost:8000/ping\")\n",
    "if response.status_code == 200:\n",
    "    print(response.text)"
   ]
  },
  {
   "cell_type": "code",
   "execution_count": 10,
   "metadata": {},
   "outputs": [
    {
     "name": "stdout",
     "output_type": "stream",
     "text": [
      "{'task_id': 'ecd11e64-7387-4ee5-8e18-496a8bc1e240', 'result': 'processing'}\n"
     ]
    }
   ],
   "source": [
    "response = requests.get(\"http://localhost:8000/add?x=3&y=5\")\n",
    "if response.status_code == 200:\n",
    "    data = response.json()\n",
    "    print(data)"
   ]
  },
  {
   "cell_type": "code",
   "execution_count": 12,
   "metadata": {},
   "outputs": [
    {
     "name": "stdout",
     "output_type": "stream",
     "text": [
      "{'task_id': 'ecd11e64-7387-4ee5-8e18-496a8bc1e240', 'result': 8}\n"
     ]
    }
   ],
   "source": [
    "response = requests.get(f\"http://localhost:8000/result/{data['task_id']}\")\n",
    "if response.status_code == 200:\n",
    "    data = response.json()\n",
    "    print(data)"
   ]
  }
 ],
 "metadata": {
  "kernelspec": {
   "display_name": ".venv",
   "language": "python",
   "name": "python3"
  },
  "language_info": {
   "codemirror_mode": {
    "name": "ipython",
    "version": 3
   },
   "file_extension": ".py",
   "mimetype": "text/x-python",
   "name": "python",
   "nbconvert_exporter": "python",
   "pygments_lexer": "ipython3",
   "version": "3.12.2"
  }
 },
 "nbformat": 4,
 "nbformat_minor": 2
}
